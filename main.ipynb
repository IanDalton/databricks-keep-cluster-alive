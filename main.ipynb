{
 "cells": [
  {
   "cell_type": "code",
   "execution_count": null,
   "metadata": {},
   "outputs": [],
   "source": [
    "from selenium import webdriver\n",
    "from selenium.webdriver.common.by import By\n",
    "from random import randint\n",
    "import time"
   ]
  },
  {
   "cell_type": "markdown",
   "metadata": {},
   "source": [
    "# KeepMeAlive para Databricks\n",
    "Codigo en selenium para que el cluster de Databricks no se apague en el periodo de 60 minutos de inactividad.\n",
    "Para esto se tiene que crear un noterbook en el mismo workspace de Databricks y debe usar el cluster que se desea mantener activo\n",
    "En la notebook se debe pegar el siguiente codigo:\n",
    "```python\n",
    "from random import randint\n",
    "print(randint(0,10))\n",
    "```\n",
    "Tambien es recomendable hacer consultas a la base de datos y mostrar los resultados para simular interacciones autenticas con el cluster, pero con lo de arriba deberia funcionar bien."
   ]
  },
  {
   "cell_type": "code",
   "execution_count": null,
   "metadata": {},
   "outputs": [],
   "source": [
    "browser = webdriver.Edge()"
   ]
  },
  {
   "cell_type": "code",
   "execution_count": null,
   "metadata": {},
   "outputs": [],
   "source": [
    "notebook = \"\" # url de la notebook para correr constantemente\n",
    "browser.get(notebook) # Va a pedir que inicies sesion en tu cuenta la primera vez"
   ]
  },
  {
   "cell_type": "code",
   "execution_count": null,
   "metadata": {},
   "outputs": [],
   "source": [
    "run_all_buttons = browser.find_elements(By.XPATH, \"//*[contains(text(), 'Run all')]\") # Busca el boton de run all\n",
    "while True:\n",
    "    run_all_buttons[0].click() #Clickea el primer boton\n",
    "    time.sleep(60*(15+randint(0,15))) # Espera 15-30 minutos, aleatorio para que no se note tanto."
   ]
  }
 ],
 "metadata": {
  "kernelspec": {
   "display_name": "Python 3",
   "language": "python",
   "name": "python3"
  },
  "language_info": {
   "codemirror_mode": {
    "name": "ipython",
    "version": 3
   },
   "file_extension": ".py",
   "mimetype": "text/x-python",
   "name": "python",
   "nbconvert_exporter": "python",
   "pygments_lexer": "ipython3",
   "version": "3.12.0"
  }
 },
 "nbformat": 4,
 "nbformat_minor": 2
}
